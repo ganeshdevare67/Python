{
  "nbformat": 4,
  "nbformat_minor": 0,
  "metadata": {
    "colab": {
      "name": "Regular_exp_python.ipynb",
      "provenance": []
    },
    "kernelspec": {
      "name": "python3",
      "display_name": "Python 3"
    },
    "language_info": {
      "name": "python"
    }
  },
  "cells": [
    {
      "cell_type": "code",
      "execution_count": 1,
      "metadata": {
        "id": "TpXg86lrVYzQ"
      },
      "outputs": [],
      "source": [
        "import re"
      ]
    },
    {
      "cell_type": "code",
      "source": [
        "text = \"ABC 123 XYZ 476 @&! 100\"\n",
        "\n",
        "pattern = re.compile(r'\\d\\d\\d') #2\n",
        "\n",
        "matches = pattern.search(text) #3\n",
        "print(matches)\n",
        "\n",
        "#use iter \n",
        "match_iterwise = pattern.finditer(text) \n",
        "for i in match_iterwise:\n",
        "  print(i.group())"
      ],
      "metadata": {
        "colab": {
          "base_uri": "https://localhost:8080/"
        },
        "id": "0hyyR6DCVeds",
        "outputId": "3054ee8f-0466-436f-87d0-038fb2fa97ac"
      },
      "execution_count": 5,
      "outputs": [
        {
          "output_type": "stream",
          "name": "stdout",
          "text": [
            "<re.Match object; span=(4, 7), match='123'>\n",
            "123\n",
            "476\n",
            "100\n"
          ]
        }
      ]
    },
    {
      "cell_type": "code",
      "source": [
        "paragraph = \"\"\"\n",
        "Hi, today is 17-Apr-2021, yesterday was 16-Apr-2021 and tomorrow will be 18-Apr-2021.\n",
        "My schedule is free on 26-04-2021, 06.05.2021 and 16/Jun/2021.\n",
        "You can reach out to me at myname2020@dummy.com or ask_help@demo.net & conference@deom.co.in\n",
        "You can also call me at one of the following no's +6032-007 1212, +6099.100 3344, 017-9998800 etc.\n",
        "\"\"\""
      ],
      "metadata": {
        "id": "seN7M0_7WDgk"
      },
      "execution_count": 6,
      "outputs": []
    },
    {
      "cell_type": "code",
      "source": [
        "datepattern = re.compile(r'\\d{2}-[a-zA-z]{3}-\\d{4}')\n",
        "\n",
        "match_date = datepattern.finditer(paragraph)\n",
        "\n",
        "for ele in match_date:\n",
        "    print(ele.group())"
      ],
      "metadata": {
        "colab": {
          "base_uri": "https://localhost:8080/"
        },
        "id": "SYT7S8NWXfCs",
        "outputId": "2b0aea4a-314b-4866-b9a1-08b35e3a3e10"
      },
      "execution_count": 12,
      "outputs": [
        {
          "output_type": "stream",
          "name": "stdout",
          "text": [
            "17-Apr-2021\n",
            "16-Apr-2021\n",
            "18-Apr-2021\n"
          ]
        }
      ]
    },
    {
      "cell_type": "code",
      "source": [
        "datepattern = re.compile(r'\\d{2}[-./][a-zA-z0-9]+[-./]\\d{4}')\n",
        "\n",
        "match_date = datepattern.finditer(paragraph)\n",
        "\n",
        "for ele in match_date:\n",
        "    print(ele.group())"
      ],
      "metadata": {
        "colab": {
          "base_uri": "https://localhost:8080/"
        },
        "id": "qW_TYOefYAL4",
        "outputId": "44f09d38-cb6a-42b3-ecb3-b6532212552e"
      },
      "execution_count": 13,
      "outputs": [
        {
          "output_type": "stream",
          "name": "stdout",
          "text": [
            "17-Apr-2021\n",
            "16-Apr-2021\n",
            "18-Apr-2021\n",
            "26-04-2021\n",
            "06.05.2021\n",
            "16/Jun/2021\n"
          ]
        }
      ]
    },
    {
      "cell_type": "code",
      "source": [
        "# myname2020@dummy.com or ask_help@demo.net & conference@deom.co.in\n",
        "emailpattern = re.compile(r'\\w+@\\w+[\\.\\w+]+')\n",
        "\n",
        "match_email = emailpattern.finditer(paragraph)\n",
        "\n",
        "for ele in match_email:\n",
        "    print(ele.group())"
      ],
      "metadata": {
        "colab": {
          "base_uri": "https://localhost:8080/"
        },
        "id": "UaEr7LYBYFP9",
        "outputId": "51c23809-d5ae-4fba-9d63-1cff2b94621a"
      },
      "execution_count": 17,
      "outputs": [
        {
          "output_type": "stream",
          "name": "stdout",
          "text": [
            "myname2020@dummy.com\n",
            "ask_help@demo.net\n",
            "conference@deom.co.in\n"
          ]
        }
      ]
    },
    {
      "cell_type": "code",
      "source": [
        "# +6032-007 1212, +6099.100 3344, 017-9998800\n",
        "phonepattern = re.compile(r'\\+?\\d+[-.]\\d{3}\\s?\\d{4}')\n",
        "# mobile_pattern = re.compile(r'(\\+\\d)?\\d{3}[-.]\\d{3}\\s?\\s{4}')\n",
        "\n",
        "match_phone = phonepattern.finditer(paragraph)\n",
        "\n",
        "for ele in match_phone:\n",
        "    print(ele.group())                          "
      ],
      "metadata": {
        "colab": {
          "base_uri": "https://localhost:8080/"
        },
        "id": "lLL4vW3gcZI9",
        "outputId": "ecbde2f9-3377-4f42-a52c-b33ce8730d2b"
      },
      "execution_count": 23,
      "outputs": [
        {
          "output_type": "stream",
          "name": "stdout",
          "text": [
            "+6032-007 1212\n",
            "+6099.100 3344\n",
            "017-9998800\n"
          ]
        }
      ]
    },
    {
      "cell_type": "code",
      "source": [
        "# match_mobile = mobile_pattern.finditer(paragraph)\n",
        "\n",
        "# for ele in match_mobile:\n",
        "#     print(ele.group()) "
      ],
      "metadata": {
        "id": "1flRCI1mdiGE"
      },
      "execution_count": 28,
      "outputs": []
    },
    {
      "cell_type": "code",
      "source": [
        "# +6032-007 1212, +6099.100 3344, 017-9998800\n",
        "phonepattern = re.compile(r'\\+?\\d+[-.]\\d{3}\\s?\\d{4}')\n",
        "# mobile_pattern = re.compile(r'(\\+\\d)?\\d{3}[-.]\\d{3}\\s?\\s{4}')\n",
        "\n",
        "match_phone = phonepattern.finditer(paragraph)\n",
        "\n",
        "for ele in match_phone:\n",
        "    print(ele.group())                          \n",
        "\n",
        "# myname2020@dummy.com or ask_help@demo.net & conference@deom.co.in\n",
        "emailpattern = re.compile(r'\\w+@\\w+[\\.\\w+]+')\n",
        "\n",
        "match_email = emailpattern.finditer(paragraph)\n",
        "\n",
        "for ele in match_email:\n",
        "    print(ele.group())\n",
        "\n",
        "datepattern = re.compile(r'\\d{2}[-./][a-zA-z0-9]+[-./]\\d{4}')\n",
        "\n",
        "match_date = datepattern.finditer(paragraph)\n",
        "\n",
        "for ele in match_date:\n",
        "    print(ele.group())"
      ],
      "metadata": {
        "colab": {
          "base_uri": "https://localhost:8080/"
        },
        "id": "ffRyfK7VfWno",
        "outputId": "6522b3a6-195d-4673-9cfe-d9c5465f5cb3"
      },
      "execution_count": 29,
      "outputs": [
        {
          "output_type": "stream",
          "name": "stdout",
          "text": [
            "+6032-007 1212\n",
            "+6099.100 3344\n",
            "017-9998800\n",
            "myname2020@dummy.com\n",
            "ask_help@demo.net\n",
            "conference@deom.co.in\n",
            "17-Apr-2021\n",
            "16-Apr-2021\n",
            "18-Apr-2021\n",
            "26-04-2021\n",
            "06.05.2021\n",
            "16/Jun/2021\n"
          ]
        }
      ]
    },
    {
      "cell_type": "code",
      "source": [
        "import re\n",
        "\n",
        "text = \"Hey, How are you?\"\n",
        "\n",
        "\n",
        "pattern = re.compile(r'^([a-zA-z]).*\\?$')\n",
        "\n",
        "pattern_text = pattern.finditer(text)\n",
        "\n",
        "for ele in pattern_text:\n",
        "  print(ele.group())"
      ],
      "metadata": {
        "colab": {
          "base_uri": "https://localhost:8080/"
        },
        "id": "uSewXjxOfDzj",
        "outputId": "1c991030-a4b3-4c05-c231-d60e77553a9b"
      },
      "execution_count": 39,
      "outputs": [
        {
          "output_type": "stream",
          "name": "stdout",
          "text": [
            "Hey, How are you?\n"
          ]
        }
      ]
    },
    {
      "cell_type": "code",
      "source": [
        "# use submethod\n",
        "text = \"My income in 2019 was $85,000 but now it is $120,000\"\n",
        "\n",
        "pattern = re.compile(r'\\$[0-9,]+')\n",
        "\n",
        "matches = pattern.sub(\"$175,000\", text)\n",
        "\n",
        "print(matches)"
      ],
      "metadata": {
        "colab": {
          "base_uri": "https://localhost:8080/"
        },
        "id": "vYMjlm1mgS4w",
        "outputId": "f6eb0bc4-7879-4e4f-e125-fef2c8f460bb"
      },
      "execution_count": 40,
      "outputs": [
        {
          "output_type": "stream",
          "name": "stdout",
          "text": [
            "My income in 2019 was $175,000 but now it is $175,000\n"
          ]
        }
      ]
    },
    {
      "cell_type": "code",
      "source": [
        ""
      ],
      "metadata": {
        "id": "yo7W_XREhVMe"
      },
      "execution_count": null,
      "outputs": []
    }
  ]
}