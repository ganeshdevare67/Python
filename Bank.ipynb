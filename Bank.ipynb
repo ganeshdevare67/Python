{
  "nbformat": 4,
  "nbformat_minor": 0,
  "metadata": {
    "colab": {
      "name": "Bank.ipynb",
      "provenance": [],
      "collapsed_sections": [],
      "authorship_tag": "ABX9TyN+HU+lta5wlB8dUurk29PZ",
      "include_colab_link": true
    },
    "kernelspec": {
      "name": "python3",
      "display_name": "Python 3"
    },
    "language_info": {
      "name": "python"
    }
  },
  "cells": [
    {
      "cell_type": "markdown",
      "metadata": {
        "id": "view-in-github",
        "colab_type": "text"
      },
      "source": [
        "<a href=\"https://colab.research.google.com/github/ganeshdevare67/Python/blob/main/Bank.ipynb\" target=\"_parent\"><img src=\"https://colab.research.google.com/assets/colab-badge.svg\" alt=\"Open In Colab\"/></a>"
      ]
    },
    {
      "cell_type": "code",
      "execution_count": 10,
      "metadata": {
        "id": "yrqEdu8foly0"
      },
      "outputs": [],
      "source": [
        "from abc import ABCMeta, abstractmethod\n",
        "from random import randint"
      ]
    },
    {
      "cell_type": "code",
      "source": [
        "class Account:\n",
        "  @abstractmethod\n",
        "  def createAccount():\n",
        "    return 0\n",
        "  @abstractmethod  \n",
        "  def authenticate():\n",
        "    return 0\n",
        "  @abstractmethod\n",
        "  def withdraw():\n",
        "    return 0\n",
        "  @abstractmethod\n",
        "  def deposite():\n",
        "    return 0\n",
        "  @abstractmethod\n",
        "  def displaybalance():\n",
        "    return 0"
      ],
      "metadata": {
        "id": "DVOLJSnqpV93"
      },
      "execution_count": 11,
      "outputs": []
    },
    {
      "cell_type": "code",
      "source": [
        "class SavingAccount(Account):\n",
        "  def __init__(self):\n",
        "    self.savingAccounts = {\"11111\" : ['hemil', 1]}\n",
        "  \n",
        "  def createAccount(self, name, initialDeposite):\n",
        "    self.accountNumber = randint(10000,99999)\n",
        "    self.savingAccounts[self.accountNumber] = [name, initialDeposite]\n",
        "    print(f\"Your account is successfully create, Your account number is {self.accountNumber}\")\n",
        "\n",
        "  def authenticate(self, name, accountNumber):\n",
        "      if accountNumber in self.savingAccounts.keys():\n",
        "        if self.savingAccounts[accountNumber][0]==name:\n",
        "          print(\"Authentication Successful!\")\n",
        "          self.accountNumber = accountNumber\n",
        "        return True\n",
        "      else:\n",
        "        print(f\"all keys >>>>>>>>>>>> : {str(self.savingAccounts.keys())}\")\n",
        "        print(f\"name you enter >>>>>> : {name}\")\n",
        "        print(f\"name in database >>>> : {self.savingAccounts[accountNumber[0]]}\")\n",
        "        print(\"Authentication Failed\")\n",
        "        return False\n",
        "  def withdraw(self, withdrawAmount):\n",
        "    if withdrawAmount> self.savingAccounts[self.accountNumber][1]:\n",
        "      print(\"Insufficient Balance\")\n",
        "    else:\n",
        "      self.savingAccounts[self.accountNumber][1] -= withdrawAmount\n",
        "      print(\"Withdraw Successful\")\n",
        "      self.displaybalance(self.accountNumber)\n",
        "  def deposite(self, depositeAmount):\n",
        "    self.savingAccounts[self.accountNumber][1] += depositeAmount\n",
        "    print(\"Deposite Successful\")\n",
        "    self.displaybalance(self.accountNumber)\n",
        "  def displaybalance(self, accountNumber):\n",
        "    print(f\"Available balance : {self.savingAccounts[accountNumber][1]}\")"
      ],
      "metadata": {
        "id": "wax1XcJ0pwvO"
      },
      "execution_count": 15,
      "outputs": []
    },
    {
      "cell_type": "code",
      "source": [
        "savingAccount = SavingAccount()"
      ],
      "metadata": {
        "id": "iaqgwUPosmKr"
      },
      "execution_count": 16,
      "outputs": []
    },
    {
      "cell_type": "code",
      "source": [
        "while True:\n",
        "  print(\"Enter 1 to open an account\")\n",
        "  print(\"Enter 2 to access existing account\")\n",
        "  print(\"Enter 3 to exit\")\n",
        "\n",
        "  userChoice = int(input(\"\"))\n",
        "  \n",
        "  if userChoice == 1:\n",
        "    name = input(\"Enter your name : \")\n",
        "    initialDeposite = int(input(\"Enter Initial Deposite : \"))\n",
        "    savingAccount.createAccount(name, initialDeposite)\n",
        "  elif userChoice == 2:\n",
        "    name = input(\"Enter name : \")\n",
        "    accountNumber = int(input(\"Enter the account number : \"))\n",
        "    authenticateStatus = savingAccount.authenticate(name, accountNumber)\n",
        "\n",
        "    if authenticateStatus is True:\n",
        "      while True:\n",
        "        print(\"Enter 1 to withdraw\")\n",
        "        print(\"Enter 2 to deposite\")\n",
        "        print(\"Enter 3 to displaybalance\")\n",
        "        print(\"Enter 4 to exit\")\n",
        "\n",
        "        userChoice = int(input(\"\"))\n",
        "\n",
        "        if userChoice == 1:\n",
        "          withdrawAmount = int(input(\"Enter withdraw amount : \"))\n",
        "          savingAccount.withdraw(withdrawAmount)\n",
        "        elif userChoice == 2:\n",
        "          depositeAmount = int(input(\"Enter Deposite Amount : \"))\n",
        "          savingAccount.deposite(depositeAmount)\n",
        "        elif userChoice == 3:\n",
        "          savingAccount.displaybalance(accountNumber)\n",
        "        elif userChoice == 4:\n",
        "          break\n",
        "    elif userChoice == 3:\n",
        "      quit()"
      ],
      "metadata": {
        "colab": {
          "base_uri": "https://localhost:8080/",
          "height": 1000
        },
        "id": "90_TyvPNsr51",
        "outputId": "2baa03af-0ee9-4332-a803-538ce798c1fe"
      },
      "execution_count": 17,
      "outputs": [
        {
          "output_type": "stream",
          "name": "stdout",
          "text": [
            "Enter 1 to open an account\n",
            "Enter 2 to access existing account\n",
            "Enter 2 to exit\n",
            "1\n",
            "Enter your name : GD\n",
            "Enter Initial Deposite : 1500\n",
            "Your account is successfully create, Your account number is 62175\n",
            "Enter 1 to open an account\n",
            "Enter 2 to access existing account\n",
            "Enter 2 to exit\n",
            "2\n",
            "Enter name : GD\n",
            "Enter the account number : 62175\n",
            "Authentication Successful!\n",
            "Enter 1 to withdraw\n",
            "Enter 2 to deposite\n",
            "Enter 3 to displaybalance\n",
            "Enter 4 to exit\n",
            "1\n",
            "Enter withdraw amount : 50\n",
            "Withdraw Successful\n",
            "Available balance : 1450\n",
            "Enter 1 to withdraw\n",
            "Enter 2 to deposite\n",
            "Enter 3 to displaybalance\n",
            "Enter 4 to exit\n",
            "3\n",
            "Available balance : 1450\n",
            "Enter 1 to withdraw\n",
            "Enter 2 to deposite\n",
            "Enter 3 to displaybalance\n",
            "Enter 4 to exit\n",
            "4\n",
            "Enter 1 to open an account\n",
            "Enter 2 to access existing account\n",
            "Enter 2 to exit\n",
            "2\n",
            "Enter name : GD\n",
            "Enter the account number : 62175\n",
            "Authentication Successful!\n",
            "Enter 1 to withdraw\n",
            "Enter 2 to deposite\n",
            "Enter 3 to displaybalance\n",
            "Enter 4 to exit\n",
            "4\n",
            "Enter 1 to open an account\n",
            "Enter 2 to access existing account\n",
            "Enter 2 to exit\n",
            "3\n",
            "Enter 1 to open an account\n",
            "Enter 2 to access existing account\n",
            "Enter 2 to exit\n"
          ]
        },
        {
          "output_type": "error",
          "ename": "KeyboardInterrupt",
          "evalue": "ignored",
          "traceback": [
            "\u001b[0;31m---------------------------------------------------------------------------\u001b[0m",
            "\u001b[0;31mKeyboardInterrupt\u001b[0m                         Traceback (most recent call last)",
            "\u001b[0;32m/usr/local/lib/python3.7/dist-packages/ipykernel/kernelbase.py\u001b[0m in \u001b[0;36m_input_request\u001b[0;34m(self, prompt, ident, parent, password)\u001b[0m\n\u001b[1;32m    728\u001b[0m             \u001b[0;32mtry\u001b[0m\u001b[0;34m:\u001b[0m\u001b[0;34m\u001b[0m\u001b[0;34m\u001b[0m\u001b[0m\n\u001b[0;32m--> 729\u001b[0;31m                 \u001b[0mident\u001b[0m\u001b[0;34m,\u001b[0m \u001b[0mreply\u001b[0m \u001b[0;34m=\u001b[0m \u001b[0mself\u001b[0m\u001b[0;34m.\u001b[0m\u001b[0msession\u001b[0m\u001b[0;34m.\u001b[0m\u001b[0mrecv\u001b[0m\u001b[0;34m(\u001b[0m\u001b[0mself\u001b[0m\u001b[0;34m.\u001b[0m\u001b[0mstdin_socket\u001b[0m\u001b[0;34m,\u001b[0m \u001b[0;36m0\u001b[0m\u001b[0;34m)\u001b[0m\u001b[0;34m\u001b[0m\u001b[0;34m\u001b[0m\u001b[0m\n\u001b[0m\u001b[1;32m    730\u001b[0m             \u001b[0;32mexcept\u001b[0m \u001b[0mException\u001b[0m\u001b[0;34m:\u001b[0m\u001b[0;34m\u001b[0m\u001b[0;34m\u001b[0m\u001b[0m\n",
            "\u001b[0;32m/usr/local/lib/python3.7/dist-packages/jupyter_client/session.py\u001b[0m in \u001b[0;36mrecv\u001b[0;34m(self, socket, mode, content, copy)\u001b[0m\n\u001b[1;32m    802\u001b[0m         \u001b[0;32mtry\u001b[0m\u001b[0;34m:\u001b[0m\u001b[0;34m\u001b[0m\u001b[0;34m\u001b[0m\u001b[0m\n\u001b[0;32m--> 803\u001b[0;31m             \u001b[0mmsg_list\u001b[0m \u001b[0;34m=\u001b[0m \u001b[0msocket\u001b[0m\u001b[0;34m.\u001b[0m\u001b[0mrecv_multipart\u001b[0m\u001b[0;34m(\u001b[0m\u001b[0mmode\u001b[0m\u001b[0;34m,\u001b[0m \u001b[0mcopy\u001b[0m\u001b[0;34m=\u001b[0m\u001b[0mcopy\u001b[0m\u001b[0;34m)\u001b[0m\u001b[0;34m\u001b[0m\u001b[0;34m\u001b[0m\u001b[0m\n\u001b[0m\u001b[1;32m    804\u001b[0m         \u001b[0;32mexcept\u001b[0m \u001b[0mzmq\u001b[0m\u001b[0;34m.\u001b[0m\u001b[0mZMQError\u001b[0m \u001b[0;32mas\u001b[0m \u001b[0me\u001b[0m\u001b[0;34m:\u001b[0m\u001b[0;34m\u001b[0m\u001b[0;34m\u001b[0m\u001b[0m\n",
            "\u001b[0;32m/usr/local/lib/python3.7/dist-packages/zmq/sugar/socket.py\u001b[0m in \u001b[0;36mrecv_multipart\u001b[0;34m(self, flags, copy, track)\u001b[0m\n\u001b[1;32m    624\u001b[0m         \"\"\"\n\u001b[0;32m--> 625\u001b[0;31m         \u001b[0mparts\u001b[0m \u001b[0;34m=\u001b[0m \u001b[0;34m[\u001b[0m\u001b[0mself\u001b[0m\u001b[0;34m.\u001b[0m\u001b[0mrecv\u001b[0m\u001b[0;34m(\u001b[0m\u001b[0mflags\u001b[0m\u001b[0;34m,\u001b[0m \u001b[0mcopy\u001b[0m\u001b[0;34m=\u001b[0m\u001b[0mcopy\u001b[0m\u001b[0;34m,\u001b[0m \u001b[0mtrack\u001b[0m\u001b[0;34m=\u001b[0m\u001b[0mtrack\u001b[0m\u001b[0;34m)\u001b[0m\u001b[0;34m]\u001b[0m\u001b[0;34m\u001b[0m\u001b[0;34m\u001b[0m\u001b[0m\n\u001b[0m\u001b[1;32m    626\u001b[0m         \u001b[0;31m# have first part already, only loop while more to receive\u001b[0m\u001b[0;34m\u001b[0m\u001b[0;34m\u001b[0m\u001b[0;34m\u001b[0m\u001b[0m\n",
            "\u001b[0;32mzmq/backend/cython/socket.pyx\u001b[0m in \u001b[0;36mzmq.backend.cython.socket.Socket.recv\u001b[0;34m()\u001b[0m\n",
            "\u001b[0;32mzmq/backend/cython/socket.pyx\u001b[0m in \u001b[0;36mzmq.backend.cython.socket.Socket.recv\u001b[0;34m()\u001b[0m\n",
            "\u001b[0;32mzmq/backend/cython/socket.pyx\u001b[0m in \u001b[0;36mzmq.backend.cython.socket._recv_copy\u001b[0;34m()\u001b[0m\n",
            "\u001b[0;32m/usr/local/lib/python3.7/dist-packages/zmq/backend/cython/checkrc.pxd\u001b[0m in \u001b[0;36mzmq.backend.cython.checkrc._check_rc\u001b[0;34m()\u001b[0m\n",
            "\u001b[0;31mKeyboardInterrupt\u001b[0m: ",
            "\nDuring handling of the above exception, another exception occurred:\n",
            "\u001b[0;31mKeyboardInterrupt\u001b[0m                         Traceback (most recent call last)",
            "\u001b[0;32m<ipython-input-17-5b9a1dc630fc>\u001b[0m in \u001b[0;36m<module>\u001b[0;34m()\u001b[0m\n\u001b[1;32m      4\u001b[0m   \u001b[0mprint\u001b[0m\u001b[0;34m(\u001b[0m\u001b[0;34m\"Enter 2 to exit\"\u001b[0m\u001b[0;34m)\u001b[0m\u001b[0;34m\u001b[0m\u001b[0;34m\u001b[0m\u001b[0m\n\u001b[1;32m      5\u001b[0m \u001b[0;34m\u001b[0m\u001b[0m\n\u001b[0;32m----> 6\u001b[0;31m   \u001b[0muserChoice\u001b[0m \u001b[0;34m=\u001b[0m \u001b[0mint\u001b[0m\u001b[0;34m(\u001b[0m\u001b[0minput\u001b[0m\u001b[0;34m(\u001b[0m\u001b[0;34m\"\"\u001b[0m\u001b[0;34m)\u001b[0m\u001b[0;34m)\u001b[0m\u001b[0;34m\u001b[0m\u001b[0;34m\u001b[0m\u001b[0m\n\u001b[0m\u001b[1;32m      7\u001b[0m \u001b[0;34m\u001b[0m\u001b[0m\n\u001b[1;32m      8\u001b[0m   \u001b[0;32mif\u001b[0m \u001b[0muserChoice\u001b[0m \u001b[0;34m==\u001b[0m \u001b[0;36m1\u001b[0m\u001b[0;34m:\u001b[0m\u001b[0;34m\u001b[0m\u001b[0;34m\u001b[0m\u001b[0m\n",
            "\u001b[0;32m/usr/local/lib/python3.7/dist-packages/ipykernel/kernelbase.py\u001b[0m in \u001b[0;36mraw_input\u001b[0;34m(self, prompt)\u001b[0m\n\u001b[1;32m    702\u001b[0m             \u001b[0mself\u001b[0m\u001b[0;34m.\u001b[0m\u001b[0m_parent_ident\u001b[0m\u001b[0;34m,\u001b[0m\u001b[0;34m\u001b[0m\u001b[0;34m\u001b[0m\u001b[0m\n\u001b[1;32m    703\u001b[0m             \u001b[0mself\u001b[0m\u001b[0;34m.\u001b[0m\u001b[0m_parent_header\u001b[0m\u001b[0;34m,\u001b[0m\u001b[0;34m\u001b[0m\u001b[0;34m\u001b[0m\u001b[0m\n\u001b[0;32m--> 704\u001b[0;31m             \u001b[0mpassword\u001b[0m\u001b[0;34m=\u001b[0m\u001b[0;32mFalse\u001b[0m\u001b[0;34m,\u001b[0m\u001b[0;34m\u001b[0m\u001b[0;34m\u001b[0m\u001b[0m\n\u001b[0m\u001b[1;32m    705\u001b[0m         )\n\u001b[1;32m    706\u001b[0m \u001b[0;34m\u001b[0m\u001b[0m\n",
            "\u001b[0;32m/usr/local/lib/python3.7/dist-packages/ipykernel/kernelbase.py\u001b[0m in \u001b[0;36m_input_request\u001b[0;34m(self, prompt, ident, parent, password)\u001b[0m\n\u001b[1;32m    732\u001b[0m             \u001b[0;32mexcept\u001b[0m \u001b[0mKeyboardInterrupt\u001b[0m\u001b[0;34m:\u001b[0m\u001b[0;34m\u001b[0m\u001b[0;34m\u001b[0m\u001b[0m\n\u001b[1;32m    733\u001b[0m                 \u001b[0;31m# re-raise KeyboardInterrupt, to truncate traceback\u001b[0m\u001b[0;34m\u001b[0m\u001b[0;34m\u001b[0m\u001b[0;34m\u001b[0m\u001b[0m\n\u001b[0;32m--> 734\u001b[0;31m                 \u001b[0;32mraise\u001b[0m \u001b[0mKeyboardInterrupt\u001b[0m\u001b[0;34m\u001b[0m\u001b[0;34m\u001b[0m\u001b[0m\n\u001b[0m\u001b[1;32m    735\u001b[0m             \u001b[0;32melse\u001b[0m\u001b[0;34m:\u001b[0m\u001b[0;34m\u001b[0m\u001b[0;34m\u001b[0m\u001b[0m\n\u001b[1;32m    736\u001b[0m                 \u001b[0;32mbreak\u001b[0m\u001b[0;34m\u001b[0m\u001b[0;34m\u001b[0m\u001b[0m\n",
            "\u001b[0;31mKeyboardInterrupt\u001b[0m: "
          ]
        }
      ]
    },
    {
      "cell_type": "code",
      "source": [
        ""
      ],
      "metadata": {
        "id": "Jgg1Hv2Iu5Te"
      },
      "execution_count": null,
      "outputs": []
    }
  ]
}